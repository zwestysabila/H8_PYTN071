{
 "cells": [
  {
   "cell_type": "code",
   "execution_count": 1,
   "id": "67334c47",
   "metadata": {},
   "outputs": [
    {
     "name": "stdout",
     "output_type": "stream",
     "text": [
      "Hello world\n"
     ]
    }
   ],
   "source": [
    "print(\"Hello world\")"
   ]
  },
  {
   "cell_type": "code",
   "execution_count": 2,
   "id": "2729eecc",
   "metadata": {},
   "outputs": [],
   "source": [
    "var1 = 3"
   ]
  },
  {
   "cell_type": "code",
   "execution_count": 3,
   "id": "5dd6fa7d",
   "metadata": {},
   "outputs": [
    {
     "name": "stdout",
     "output_type": "stream",
     "text": [
      "3\n"
     ]
    }
   ],
   "source": [
    "print(var1)"
   ]
  },
  {
   "cell_type": "code",
   "execution_count": 4,
   "id": "91032378",
   "metadata": {
    "scrolled": true
   },
   "outputs": [
    {
     "name": "stdout",
     "output_type": "stream",
     "text": [
      "5\n"
     ]
    }
   ],
   "source": [
    "print(var1+2)"
   ]
  },
  {
   "cell_type": "code",
   "execution_count": 5,
   "id": "1fda4633",
   "metadata": {
    "scrolled": true
   },
   "outputs": [
    {
     "name": "stdout",
     "output_type": "stream",
     "text": [
      "4.0\n"
     ]
    }
   ],
   "source": [
    "# floating number\n",
    "\n",
    "print(4.)"
   ]
  },
  {
   "cell_type": "code",
   "execution_count": 6,
   "id": "28fc89fb",
   "metadata": {},
   "outputs": [
    {
     "data": {
      "text/plain": [
       "31"
      ]
     },
     "execution_count": 6,
     "metadata": {},
     "output_type": "execute_result"
    }
   ],
   "source": [
    "a = 1\n",
    "b = 30\n",
    "a+b"
   ]
  },
  {
   "cell_type": "code",
   "execution_count": 9,
   "id": "9eef5ac1",
   "metadata": {},
   "outputs": [
    {
     "data": {
      "text/plain": [
       "1"
      ]
     },
     "execution_count": 9,
     "metadata": {},
     "output_type": "execute_result"
    }
   ],
   "source": [
    "#modulo (untuk lihat ganjil genap)\n",
    "11%2"
   ]
  },
  {
   "cell_type": "code",
   "execution_count": 10,
   "id": "55c1b20c",
   "metadata": {},
   "outputs": [
    {
     "data": {
      "text/plain": [
       "5"
      ]
     },
     "execution_count": 10,
     "metadata": {},
     "output_type": "execute_result"
    }
   ],
   "source": [
    "#pembagian tanpa koma\n",
    "11//2"
   ]
  },
  {
   "cell_type": "markdown",
   "id": "84ee3d3d",
   "metadata": {},
   "source": [
    "sama dengan ==\n",
    "tidak sama dengan !="
   ]
  },
  {
   "cell_type": "code",
   "execution_count": 11,
   "id": "f115c7f2",
   "metadata": {},
   "outputs": [
    {
     "name": "stdout",
     "output_type": "stream",
     "text": [
      "False\n"
     ]
    }
   ],
   "source": [
    "a = 10\n",
    "b = 11\n",
    "print(a==b)"
   ]
  },
  {
   "cell_type": "code",
   "execution_count": 13,
   "id": "20623fd3",
   "metadata": {
    "scrolled": true
   },
   "outputs": [
    {
     "name": "stdout",
     "output_type": "stream",
     "text": [
      "True\n"
     ]
    }
   ],
   "source": [
    "print(a!=b)"
   ]
  },
  {
   "cell_type": "code",
   "execution_count": 14,
   "id": "f4dd2628",
   "metadata": {},
   "outputs": [
    {
     "name": "stdout",
     "output_type": "stream",
     "text": [
      "berapa umur kamu?25\n",
      "<class 'str'>\n",
      "dewasa\n"
     ]
    }
   ],
   "source": [
    "#operator ternary\n",
    "\n",
    "umur = input(\"berapa umur kamu?\")\n",
    "print(type(umur)) #untuk melihat tipe inputnya\n",
    "\n",
    "aku = \"anak\" if int(umur) < 10 else \"dewasa\"\n",
    "print(aku)"
   ]
  },
  {
   "cell_type": "code",
   "execution_count": 32,
   "id": "6af0da2a",
   "metadata": {},
   "outputs": [
    {
     "name": "stdout",
     "output_type": "stream",
     "text": [
      "zwestyts\n",
      "Hacktiv8 Latihan\n",
      "zweszweszweszwes\n",
      "hacktiv8\n",
      "HACKTIV8\n",
      "hACKTIV8\n",
      "Halo halo bandung\n",
      "Halo Halo Bandung\n"
     ]
    }
   ],
   "source": [
    "#string manipulation\n",
    "x = 'zwes'\n",
    "y = 'ty'\n",
    "z = 'ts'\n",
    "\n",
    "print(x+y+z)\n",
    "\n",
    "print(\"Hacktiv8 \"+ \"Latihan\")\n",
    "\n",
    "print(x*4)\n",
    "\n",
    "s = 'Hacktiv8'\n",
    "\n",
    "#lower\n",
    "print(s.lower())\n",
    "\n",
    "#upper\n",
    "print(s.upper())\n",
    "\n",
    "#swapcase\n",
    "print(s.swapcase())\n",
    "\n",
    "r = 'HALO HALO BANDUNG'\n",
    "\n",
    "#capitalize\n",
    "print(r.capitalize())\n",
    "\n",
    "#title\n",
    "print(r.title())\n"
   ]
  },
  {
   "cell_type": "code",
   "execution_count": 19,
   "id": "76a90122",
   "metadata": {},
   "outputs": [
    {
     "data": {
      "text/plain": [
       "'zwes'"
      ]
     },
     "execution_count": 19,
     "metadata": {},
     "output_type": "execute_result"
    }
   ],
   "source": [
    "#LIST\n",
    "\n",
    "lstA = ['zwes','ty','tri','a','sa']\n",
    "\n",
    "#get first item on the list\n",
    "lstA[0]\n"
   ]
  },
  {
   "cell_type": "code",
   "execution_count": 20,
   "id": "058c9da7",
   "metadata": {},
   "outputs": [
    {
     "data": {
      "text/plain": [
       "'sa'"
      ]
     },
     "execution_count": 20,
     "metadata": {},
     "output_type": "execute_result"
    }
   ],
   "source": [
    "#get last item on the list\n",
    "lstA[-1]"
   ]
  },
  {
   "cell_type": "code",
   "execution_count": 23,
   "id": "3ceea557",
   "metadata": {},
   "outputs": [
    {
     "data": {
      "text/plain": [
       "['ty', 'tri', 'a']"
      ]
     },
     "execution_count": 23,
     "metadata": {},
     "output_type": "execute_result"
    }
   ],
   "source": [
    "#get item number 2 until number 4\n",
    "#expected result 'ty','tri','a'\n",
    "lstA[1:4]"
   ]
  },
  {
   "cell_type": "code",
   "execution_count": 24,
   "id": "f1c5d205",
   "metadata": {},
   "outputs": [
    {
     "name": "stdout",
     "output_type": "stream",
     "text": [
      "['zwes', 'ty', 'tri', 'a', 'sa', 'bi', 'la']\n"
     ]
    }
   ],
   "source": [
    "#add item to the list\n",
    "lstA += ['bi', 'la']\n",
    "print(lstA)"
   ]
  },
  {
   "cell_type": "code",
   "execution_count": 26,
   "id": "f4bf48aa",
   "metadata": {},
   "outputs": [
    {
     "name": "stdout",
     "output_type": "stream",
     "text": [
      "['zwes', 'ty', 31, 'a', 'sa', 'bi', 'la']\n"
     ]
    }
   ],
   "source": [
    "#modify item number 3\n",
    "#expected result ['zwes', 'ty', 31, 'a', 'sa', 'bi', 'la']\n",
    "lstA[2] = 31\n",
    "print(lstA)"
   ]
  },
  {
   "cell_type": "code",
   "execution_count": 27,
   "id": "59705b77",
   "metadata": {},
   "outputs": [
    {
     "name": "stdout",
     "output_type": "stream",
     "text": [
      "['zwes', 'ty', 31, 'sa', 'bi', 'la']\n"
     ]
    }
   ],
   "source": [
    "#delete item number 4\n",
    "#expected result ['zwes', 'ty', 31, 'sa', 'bi', 'la']\n",
    "del lstA[3]\n",
    "print(lstA)"
   ]
  },
  {
   "cell_type": "code",
   "execution_count": 34,
   "id": "a8b65d21",
   "metadata": {},
   "outputs": [
    {
     "name": "stdout",
     "output_type": "stream",
     "text": [
      "6\n",
      "bi\n",
      "zwes\n"
     ]
    }
   ],
   "source": [
    "#lenght min max\n",
    "print(len(lstA))\n",
    "\n",
    "del lstA[2]\n",
    "\n",
    "print(min(lstA))\n",
    "print(max(lstA))"
   ]
  },
  {
   "cell_type": "code",
   "execution_count": 38,
   "id": "4e99c935",
   "metadata": {},
   "outputs": [
    {
     "name": "stdout",
     "output_type": "stream",
     "text": [
      "True\n",
      "1\n"
     ]
    },
    {
     "ename": "ValueError",
     "evalue": "'anggur' is not in list",
     "output_type": "error",
     "traceback": [
      "\u001b[0;31m---------------------------------------------------------------------------\u001b[0m",
      "\u001b[0;31mValueError\u001b[0m                                Traceback (most recent call last)",
      "\u001b[0;32m/var/folders/by/nyjh0k9n5_z41__fxq_xd_600000gn/T/ipykernel_70876/1678692925.py\u001b[0m in \u001b[0;36m<module>\u001b[0;34m\u001b[0m\n\u001b[1;32m      7\u001b[0m \u001b[0;31m#dengan index\u001b[0m\u001b[0;34m\u001b[0m\u001b[0;34m\u001b[0m\u001b[0m\n\u001b[1;32m      8\u001b[0m \u001b[0mprint\u001b[0m\u001b[0;34m(\u001b[0m\u001b[0mbuah\u001b[0m\u001b[0;34m.\u001b[0m\u001b[0mindex\u001b[0m\u001b[0;34m(\u001b[0m\u001b[0;34m'mangga'\u001b[0m\u001b[0;34m)\u001b[0m\u001b[0;34m)\u001b[0m\u001b[0;34m\u001b[0m\u001b[0;34m\u001b[0m\u001b[0m\n\u001b[0;32m----> 9\u001b[0;31m \u001b[0mprint\u001b[0m\u001b[0;34m(\u001b[0m\u001b[0mbuah\u001b[0m\u001b[0;34m.\u001b[0m\u001b[0mindex\u001b[0m\u001b[0;34m(\u001b[0m\u001b[0;34m'anggur'\u001b[0m\u001b[0;34m)\u001b[0m\u001b[0;34m)\u001b[0m\u001b[0;34m\u001b[0m\u001b[0;34m\u001b[0m\u001b[0m\n\u001b[0m",
      "\u001b[0;31mValueError\u001b[0m: 'anggur' is not in list"
     ]
    }
   ],
   "source": [
    "#cara mencari data pada list\n",
    "buah = ['jeruk','mangga','apel']\n",
    "\n",
    "#dengan operator in\n",
    "print('jeruk' in buah)\n",
    "\n",
    "#dengan index\n",
    "print(buah.index('mangga'))\n",
    "print(buah.index('anggur')) #not in the list"
   ]
  },
  {
   "cell_type": "code",
   "execution_count": null,
   "id": "81facb5e",
   "metadata": {},
   "outputs": [],
   "source": []
  }
 ],
 "metadata": {
  "celltoolbar": "Raw Cell Format",
  "kernelspec": {
   "display_name": "Python 3 (ipykernel)",
   "language": "python",
   "name": "python3"
  },
  "language_info": {
   "codemirror_mode": {
    "name": "ipython",
    "version": 3
   },
   "file_extension": ".py",
   "mimetype": "text/x-python",
   "name": "python",
   "nbconvert_exporter": "python",
   "pygments_lexer": "ipython3",
   "version": "3.9.7"
  }
 },
 "nbformat": 4,
 "nbformat_minor": 5
}
