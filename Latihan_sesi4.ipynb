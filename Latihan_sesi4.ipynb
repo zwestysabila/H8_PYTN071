{
 "cells": [
  {
   "cell_type": "code",
   "execution_count": 4,
   "id": "6d150fd6",
   "metadata": {},
   "outputs": [],
   "source": [
    "import numpy as np"
   ]
  },
  {
   "cell_type": "code",
   "execution_count": 2,
   "id": "7bf4a262",
   "metadata": {},
   "outputs": [
    {
     "data": {
      "text/plain": [
       "[0, 1, 2, 3, 4, 5, 6, 7, 8, 9]"
      ]
     },
     "execution_count": 2,
     "metadata": {},
     "output_type": "execute_result"
    }
   ],
   "source": [
    "b = list(range(10))\n",
    "b"
   ]
  },
  {
   "cell_type": "code",
   "execution_count": 3,
   "id": "af4e8b3c",
   "metadata": {},
   "outputs": [
    {
     "name": "stdout",
     "output_type": "stream",
     "text": [
      "[1, 2, 9, 28, 65, 126, 217, 344, 513, 730]\n"
     ]
    }
   ],
   "source": [
    "def pythonsum(n):\n",
    "    a = b = list(range(n))\n",
    "    c = []\n",
    "    for i in range(len(a)):\n",
    "        x = a[1] ** 2\n",
    "        y = b[i] ** 3\n",
    "        c.append(x+y)\n",
    "    return c\n",
    "\n",
    "c= pythonsum(10)\n",
    "print(c)"
   ]
  },
  {
   "cell_type": "code",
   "execution_count": 51,
   "id": "7fe5e8fa",
   "metadata": {},
   "outputs": [
    {
     "data": {
      "text/plain": [
       "array([0, 1, 2, 3, 4, 5, 6, 7, 8, 9])"
      ]
     },
     "execution_count": 51,
     "metadata": {},
     "output_type": "execute_result"
    }
   ],
   "source": [
    "np.arange(10)"
   ]
  },
  {
   "cell_type": "code",
   "execution_count": 52,
   "id": "dca01b41",
   "metadata": {},
   "outputs": [
    {
     "name": "stdout",
     "output_type": "stream",
     "text": [
      "[0 1 2 3 4 5 6 7 8 9]\n"
     ]
    },
    {
     "data": {
      "text/plain": [
       "10"
      ]
     },
     "execution_count": 52,
     "metadata": {},
     "output_type": "execute_result"
    }
   ],
   "source": [
    "#a = b = list(range(10))\n",
    "#range(len(a))\n",
    "\n",
    "\n",
    "x = y = np.arange(10)\n",
    "print(x)\n",
    "np.size(x)"
   ]
  },
  {
   "cell_type": "code",
   "execution_count": 7,
   "id": "50471d4e",
   "metadata": {},
   "outputs": [
    {
     "name": "stdout",
     "output_type": "stream",
     "text": [
      "[1 2 3 4 5 6 7 8]\n"
     ]
    }
   ],
   "source": [
    "arr = np.array([1,2,3,4,5,6,7,8])\n",
    "print(arr)"
   ]
  },
  {
   "cell_type": "code",
   "execution_count": 8,
   "id": "e47d9451",
   "metadata": {},
   "outputs": [],
   "source": [
    "arr = np.append(arr,[9,10])"
   ]
  },
  {
   "cell_type": "code",
   "execution_count": 9,
   "id": "c12afb03",
   "metadata": {},
   "outputs": [
    {
     "name": "stdout",
     "output_type": "stream",
     "text": [
      "[ 1  2  3  4  5  6  7  8  9 10]\n"
     ]
    }
   ],
   "source": [
    "print(arr)"
   ]
  },
  {
   "cell_type": "code",
   "execution_count": 28,
   "id": "9ca8a725",
   "metadata": {},
   "outputs": [
    {
     "name": "stdout",
     "output_type": "stream",
     "text": [
      "<class 'numpy.ndarray'>\n"
     ]
    }
   ],
   "source": [
    "#multi-dimentional arrays\n",
    "\n",
    "import numpy as np\n",
    "multi_list = np.array([[0,1,2,3],[10,11,12,13]]) #array 2D\n",
    "print (type(multi_list))\n",
    "bb = multi_list"
   ]
  },
  {
   "cell_type": "code",
   "execution_count": 36,
   "id": "85d4033c",
   "metadata": {},
   "outputs": [
    {
     "name": "stdout",
     "output_type": "stream",
     "text": [
      "(2, 4)\n",
      "8\n",
      "2\n"
     ]
    }
   ],
   "source": [
    "aa = np.shape(multi_list) #nilai dimensi array 2x4\n",
    "print(aa)\n",
    "cc = np.size(multi_list) #panjang arraynya\n",
    "print(cc)\n",
    "dd = np.ndim(multi_list) #dimensi berapa\n",
    "print(dd)"
   ]
  },
  {
   "cell_type": "code",
   "execution_count": 30,
   "id": "21af3866",
   "metadata": {},
   "outputs": [
    {
     "name": "stdout",
     "output_type": "stream",
     "text": [
      "[[ 0  1  2  3]\n",
      " [10 11 12 13]]\n"
     ]
    }
   ],
   "source": [
    "print(bb)"
   ]
  },
  {
   "cell_type": "code",
   "execution_count": 31,
   "id": "d33b72b1",
   "metadata": {},
   "outputs": [
    {
     "data": {
      "text/plain": [
       "13"
      ]
     },
     "execution_count": 31,
     "metadata": {},
     "output_type": "execute_result"
    }
   ],
   "source": [
    "bb[1,3]"
   ]
  },
  {
   "cell_type": "code",
   "execution_count": 33,
   "id": "17a8d290",
   "metadata": {},
   "outputs": [
    {
     "name": "stdout",
     "output_type": "stream",
     "text": [
      "[[ 0  1  2  3]\n",
      " [10 11 12 -1]]\n"
     ]
    }
   ],
   "source": [
    "bb[1,3] = -1\n",
    "print(bb)"
   ]
  },
  {
   "cell_type": "code",
   "execution_count": 40,
   "id": "e9277707",
   "metadata": {},
   "outputs": [
    {
     "data": {
      "text/plain": [
       "(array([0., 0., 0., 0., 0., 0., 0., 0., 0., 0.]),\n",
       " dtype([('name', 'S10'), ('height', '<i8'), ('age', '<i8')]))"
      ]
     },
     "execution_count": 40,
     "metadata": {},
     "output_type": "execute_result"
    }
   ],
   "source": [
    "## sorting dengan membuat structured array \n",
    "dt = np.dtype([('name', 'S10' ), ('height', int), ('age', int)])\n",
    "#np.array(dtype)\n",
    "tableArr=(np.zeros(5,),dt)\n",
    "tableArr\n"
   ]
  },
  {
   "cell_type": "code",
   "execution_count": null,
   "id": "43cfb8c3",
   "metadata": {},
   "outputs": [],
   "source": [
    "## belajar reshape"
   ]
  },
  {
   "cell_type": "code",
   "execution_count": null,
   "id": "659b91e8",
   "metadata": {},
   "outputs": [],
   "source": [
    "## belajar slicing\n"
   ]
  },
  {
   "cell_type": "code",
   "execution_count": 42,
   "id": "822a7109",
   "metadata": {},
   "outputs": [
    {
     "name": "stdout",
     "output_type": "stream",
     "text": [
      "[ 0  1  2  3 -1]\n"
     ]
    }
   ],
   "source": [
    "print(bb[bb<5])"
   ]
  },
  {
   "cell_type": "code",
   "execution_count": 43,
   "id": "83f29dbb",
   "metadata": {},
   "outputs": [
    {
     "name": "stdout",
     "output_type": "stream",
     "text": [
      "[10 11 12]\n"
     ]
    }
   ],
   "source": [
    "print(bb[bb>=5])"
   ]
  },
  {
   "cell_type": "code",
   "execution_count": null,
   "id": "a42a69f7",
   "metadata": {},
   "outputs": [],
   "source": [
    "np.vstack(a,b) # untuk menggabungkan vertikal array a dan b\n",
    "np.hstack(a,b) # untuk menggabungkan secara horizontal array a dan b\n",
    "np.hsplit(a,3) # untuk split array jadi 3 bagian"
   ]
  },
  {
   "cell_type": "code",
   "execution_count": 45,
   "id": "cf17572b",
   "metadata": {},
   "outputs": [
    {
     "name": "stdout",
     "output_type": "stream",
     "text": [
      "[0, 1]\n",
      "[5, 1]\n"
     ]
    }
   ],
   "source": [
    "x = [0,1]\n",
    "y = [2,3]\n",
    "z = x\n",
    "\n",
    "print(x)\n",
    "z[0] = 5\n",
    "print(x)"
   ]
  },
  {
   "cell_type": "code",
   "execution_count": 46,
   "id": "73644512",
   "metadata": {},
   "outputs": [
    {
     "name": "stdout",
     "output_type": "stream",
     "text": [
      "[0, 1]\n",
      "[0, 1]\n",
      "[5 1]\n"
     ]
    }
   ],
   "source": [
    "## fungsi copy\n",
    "\n",
    "x = [0,1]\n",
    "y = [2,3]\n",
    "z = np.copy(x)\n",
    "\n",
    "print(x)\n",
    "z[0] = 5\n",
    "print(x)\n",
    "print(z)"
   ]
  },
  {
   "cell_type": "code",
   "execution_count": 50,
   "id": "b3c6ea95",
   "metadata": {},
   "outputs": [
    {
     "data": {
      "text/plain": [
       "1"
      ]
     },
     "execution_count": 50,
     "metadata": {},
     "output_type": "execute_result"
    }
   ],
   "source": [
    "np.ndim(y)"
   ]
  },
  {
   "cell_type": "code",
   "execution_count": 55,
   "id": "f0a60f9e",
   "metadata": {},
   "outputs": [
    {
     "name": "stdout",
     "output_type": "stream",
     "text": [
      "[[1 2]\n",
      " [3 4]\n",
      " [5 6]]\n"
     ]
    }
   ],
   "source": [
    "data = np.array([[1,2],[3,4],[5,6]])\n",
    "print(data)"
   ]
  },
  {
   "cell_type": "code",
   "execution_count": 56,
   "id": "015b3f15",
   "metadata": {},
   "outputs": [
    {
     "name": "stdout",
     "output_type": "stream",
     "text": [
      "2\n"
     ]
    }
   ],
   "source": [
    "print(data[0,1])"
   ]
  },
  {
   "cell_type": "code",
   "execution_count": 57,
   "id": "8cef738c",
   "metadata": {},
   "outputs": [
    {
     "name": "stdout",
     "output_type": "stream",
     "text": [
      "[[1 2]\n",
      " [3 4]\n",
      " [5 6]]\n"
     ]
    }
   ],
   "source": [
    "print(data[:])"
   ]
  },
  {
   "cell_type": "code",
   "execution_count": 58,
   "id": "f2b92e21",
   "metadata": {},
   "outputs": [
    {
     "name": "stdout",
     "output_type": "stream",
     "text": [
      "[1 3]\n"
     ]
    }
   ],
   "source": [
    "print(data[0:2,0])"
   ]
  },
  {
   "cell_type": "code",
   "execution_count": 59,
   "id": "3b30e04a",
   "metadata": {},
   "outputs": [
    {
     "name": "stdout",
     "output_type": "stream",
     "text": [
      "[2 4 6]\n"
     ]
    }
   ],
   "source": [
    "print(data[:,-1])"
   ]
  },
  {
   "cell_type": "code",
   "execution_count": 60,
   "id": "d177fbfc",
   "metadata": {},
   "outputs": [
    {
     "name": "stdout",
     "output_type": "stream",
     "text": [
      "[[1 2]\n",
      " [3 4]]\n"
     ]
    }
   ],
   "source": [
    "print(data[0:2,:])"
   ]
  },
  {
   "cell_type": "code",
   "execution_count": 61,
   "id": "fdb22cbc",
   "metadata": {},
   "outputs": [
    {
     "name": "stdout",
     "output_type": "stream",
     "text": [
      "[[2]\n",
      " [4]\n",
      " [6]]\n"
     ]
    }
   ],
   "source": [
    "print(data[:,1:])"
   ]
  },
  {
   "cell_type": "code",
   "execution_count": 62,
   "id": "b53f5a86",
   "metadata": {},
   "outputs": [
    {
     "name": "stdout",
     "output_type": "stream",
     "text": [
      "[[ 1  2  3  4]\n",
      " [ 5  6  7  8]\n",
      " [ 8 10 11 12]\n",
      " [13 14 15 16]]\n"
     ]
    }
   ],
   "source": [
    "arr = np.array([[1,2,3,4],[5,6,7,8],[8,10,11,12],[13,14,15,16]])\n",
    "print(arr)"
   ]
  },
  {
   "cell_type": "code",
   "execution_count": 65,
   "id": "0f5e4cdd",
   "metadata": {},
   "outputs": [
    {
     "name": "stdout",
     "output_type": "stream",
     "text": [
      "[[ 5  7]\n",
      " [13 15]]\n"
     ]
    }
   ],
   "source": [
    "print(arr[1::2,::2])"
   ]
  },
  {
   "cell_type": "code",
   "execution_count": 66,
   "id": "11b5e61f",
   "metadata": {},
   "outputs": [
    {
     "name": "stdout",
     "output_type": "stream",
     "text": [
      "[[1 3 5]\n",
      " [2 4 6]]\n"
     ]
    }
   ],
   "source": [
    "## transpose\n",
    "print(data.transpose())"
   ]
  },
  {
   "cell_type": "code",
   "execution_count": 67,
   "id": "7b1b6461",
   "metadata": {},
   "outputs": [
    {
     "data": {
      "text/plain": [
       "2"
      ]
     },
     "execution_count": 67,
     "metadata": {},
     "output_type": "execute_result"
    }
   ],
   "source": [
    "np.ndim(arr)"
   ]
  },
  {
   "cell_type": "code",
   "execution_count": null,
   "id": "c975f5e0",
   "metadata": {},
   "outputs": [],
   "source": []
  }
 ],
 "metadata": {
  "kernelspec": {
   "display_name": "Python 3 (ipykernel)",
   "language": "python",
   "name": "python3"
  },
  "language_info": {
   "codemirror_mode": {
    "name": "ipython",
    "version": 3
   },
   "file_extension": ".py",
   "mimetype": "text/x-python",
   "name": "python",
   "nbconvert_exporter": "python",
   "pygments_lexer": "ipython3",
   "version": "3.9.7"
  }
 },
 "nbformat": 4,
 "nbformat_minor": 5
}
