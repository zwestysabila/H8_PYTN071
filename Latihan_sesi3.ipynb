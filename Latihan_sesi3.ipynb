{
 "cells": [
  {
   "cell_type": "markdown",
   "id": "7c9fa4e2",
   "metadata": {},
   "source": [
    "# function"
   ]
  },
  {
   "cell_type": "code",
   "execution_count": 4,
   "id": "63fe9b14",
   "metadata": {},
   "outputs": [],
   "source": [
    "def tambah_angka(x,y):\n",
    "    total = x+y\n",
    "    return total"
   ]
  },
  {
   "cell_type": "code",
   "execution_count": 5,
   "id": "4f39f0e2",
   "metadata": {},
   "outputs": [
    {
     "data": {
      "text/plain": [
       "3"
      ]
     },
     "execution_count": 5,
     "metadata": {},
     "output_type": "execute_result"
    }
   ],
   "source": [
    "tambah_angka(1,2)"
   ]
  },
  {
   "cell_type": "code",
   "execution_count": 6,
   "id": "0679b4db",
   "metadata": {},
   "outputs": [
    {
     "name": "stdout",
     "output_type": "stream",
     "text": [
      "isi list [9, 8, 7]\n"
     ]
    }
   ],
   "source": [
    "listx = [9,8,7]\n",
    "print(f\"isi list {listx}\")"
   ]
  },
  {
   "cell_type": "code",
   "execution_count": 8,
   "id": "d0c052c2",
   "metadata": {},
   "outputs": [
    {
     "name": "stdout",
     "output_type": "stream",
     "text": [
      "isi list setelah di append [9, 8, 7, [0, 1, 2], [0, 1, 2]]\n"
     ]
    }
   ],
   "source": [
    "listx.append([0,1,2])\n",
    "print(f\"isi list setelah di append {listx}\")"
   ]
  },
  {
   "cell_type": "code",
   "execution_count": 10,
   "id": "103d682b",
   "metadata": {},
   "outputs": [
    {
     "name": "stdout",
     "output_type": "stream",
     "text": [
      "isi list pertama 9\n"
     ]
    }
   ],
   "source": [
    "print(f\"isi list pertama {listx[0]}\")"
   ]
  },
  {
   "cell_type": "code",
   "execution_count": 15,
   "id": "7ed67534",
   "metadata": {},
   "outputs": [
    {
     "name": "stdout",
     "output_type": "stream",
     "text": [
      "Jack is a developer\n",
      "Jack is a developer\n"
     ]
    }
   ],
   "source": [
    "#keyword argunment\n",
    "\n",
    "def func(name, job):\n",
    "    print(name, 'is a', job)\n",
    "    \n",
    "func(name='Jack', job='developer')\n",
    "func(job='developer', name='Jack',)"
   ]
  },
  {
   "cell_type": "code",
   "execution_count": 16,
   "id": "8b838726",
   "metadata": {},
   "outputs": [
    {
     "name": "stdout",
     "output_type": "stream",
     "text": [
      "output is: \n",
      "10\n",
      "output is: \n",
      "70\n",
      "60\n",
      "50\n",
      "a\n"
     ]
    }
   ],
   "source": [
    "#variable-length argument\n",
    "#untuk membuat fungsi dengan parameter lebih banyak dari yang ditentukan\n",
    "\n",
    "def printinfo(arg1, *vartuple):\n",
    "    \"this prints a variable passed documents\"\n",
    "    print(\"output is: \")\n",
    "    print(arg1)\n",
    "    for var in vartuple:\n",
    "        print(var)\n",
    "    return;\n",
    "\n",
    "printinfo(10)\n",
    "printinfo(70,60,50,\"a\")"
   ]
  },
  {
   "cell_type": "code",
   "execution_count": 18,
   "id": "1e68055c",
   "metadata": {},
   "outputs": [
    {
     "name": "stdout",
     "output_type": "stream",
     "text": [
      "(5, 1)\n",
      "<class 'tuple'>\n"
     ]
    }
   ],
   "source": [
    "#return multiple values\n",
    "\n",
    "def functest(a,b):\n",
    "    return a+b,a-b\n",
    "\n",
    "result = functest(3,2)\n",
    "\n",
    "print(result)\n",
    "print(type(result))"
   ]
  },
  {
   "cell_type": "markdown",
   "id": "0d8e6f36",
   "metadata": {},
   "source": [
    "# scope of variable"
   ]
  },
  {
   "cell_type": "code",
   "execution_count": 22,
   "id": "02b47479",
   "metadata": {},
   "outputs": [
    {
     "name": "stdout",
     "output_type": "stream",
     "text": [
      "print total inside function :  30\n",
      "print total outside function :  10\n",
      "print total inside function :  30\n",
      "print update total :  40\n"
     ]
    }
   ],
   "source": [
    "#global variable\n",
    "total = 10\n",
    "\n",
    "def sum(a,b):\n",
    "    total = a+b\n",
    "    total2 = total + a\n",
    "    print(\"print total inside function : \", total)\n",
    "    return total2;\n",
    "\n",
    "sum(10,20);\n",
    "print(\"print total outside function : \", total);\n",
    "\n",
    "total=sum(10,20);\n",
    "print(\"print update total : \", total);"
   ]
  },
  {
   "cell_type": "code",
   "execution_count": 23,
   "id": "2f7fd003",
   "metadata": {},
   "outputs": [
    {
     "name": "stdout",
     "output_type": "stream",
     "text": [
      "this prints a variable passed documents\n"
     ]
    }
   ],
   "source": [
    "#docstring\n",
    "#untuk melihat string yang dicatatkan pada function\n",
    "\n",
    "print(printinfo.__doc__)"
   ]
  }
 ],
 "metadata": {
  "kernelspec": {
   "display_name": "Python 3 (ipykernel)",
   "language": "python",
   "name": "python3"
  },
  "language_info": {
   "codemirror_mode": {
    "name": "ipython",
    "version": 3
   },
   "file_extension": ".py",
   "mimetype": "text/x-python",
   "name": "python",
   "nbconvert_exporter": "python",
   "pygments_lexer": "ipython3",
   "version": "3.9.7"
  }
 },
 "nbformat": 4,
 "nbformat_minor": 5
}
