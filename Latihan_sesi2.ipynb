{
 "cells": [
  {
   "cell_type": "code",
   "execution_count": 1,
   "id": "b93c7f23",
   "metadata": {},
   "outputs": [
    {
     "name": "stdout",
     "output_type": "stream",
     "text": [
      "x bigger\n",
      "if false\n",
      "done\n"
     ]
    }
   ],
   "source": [
    "# if condition if - else\n",
    "\n",
    "x = 120\n",
    "\n",
    "if x < 100:\n",
    "    print(\"x smaller\")\n",
    "    print(\"if true\")\n",
    "else:\n",
    "    print(\"x bigger\")\n",
    "    print(\"if false\")\n",
    "print(\"done\")"
   ]
  },
  {
   "cell_type": "code",
   "execution_count": 3,
   "id": "548debda",
   "metadata": {},
   "outputs": [
    {
     "name": "stdout",
     "output_type": "stream",
     "text": [
      "Hello Zwes\n"
     ]
    }
   ],
   "source": [
    "# if condition elif\n",
    "\n",
    "lstA = ['zwes','ty','tri','a','sa']\n",
    "\n",
    "if 'zwesty' in lstA:\n",
    "    print(\"Hello Zwesty\")\n",
    "elif 'tria' in lstA:\n",
    "    print(\"Hello Tria\")\n",
    "elif 'sabila' in lstA:\n",
    "    print(\"Hello Sabila\")\n",
    "elif 'zwes' in lstA:\n",
    "    print(\"Hello Zwes\")\n",
    "else:\n",
    "    print(\"I don't know who you are\")\n",
    "    \n"
   ]
  },
  {
   "cell_type": "code",
   "execution_count": 5,
   "id": "fce7b880",
   "metadata": {},
   "outputs": [
    {
     "name": "stdout",
     "output_type": "stream",
     "text": [
      "1\n",
      "2\n",
      "3\n"
     ]
    }
   ],
   "source": [
    "# if condition 1 line\n",
    "\n",
    "if 'f' in 'foo': print(1); print(2); print(3)\n"
   ]
  },
  {
   "cell_type": "code",
   "execution_count": 6,
   "id": "8c3c134d",
   "metadata": {},
   "outputs": [
    {
     "name": "stdout",
     "output_type": "stream",
     "text": [
      "Let's go to the beach\n"
     ]
    }
   ],
   "source": [
    "# conditional expression\n",
    "\n",
    "raining = False\n",
    "print(\"Let's go to the\", 'beach' if not raining else 'library')"
   ]
  },
  {
   "cell_type": "code",
   "execution_count": 1,
   "id": "584a6373",
   "metadata": {},
   "outputs": [
    {
     "name": "stdout",
     "output_type": "stream",
     "text": [
      "foo\n"
     ]
    }
   ],
   "source": [
    "# for loop\n",
    "\n",
    "for i in ['foo','bar','baz']:\n",
    "    if 'b' in i:\n",
    "        continue\n",
    "    print(i)\n",
    "    # ketika ada b maka lanjutkan tidak di cetak\n"
   ]
  },
  {
   "cell_type": "code",
   "execution_count": 7,
   "id": "48f4f67c",
   "metadata": {},
   "outputs": [
    {
     "name": "stdout",
     "output_type": "stream",
     "text": [
      "4\n",
      "3\n",
      "2\n",
      "1\n",
      "0\n"
     ]
    }
   ],
   "source": [
    "# while loop\n",
    "\n",
    "n = 5\n",
    "while n > 0:\n",
    "    n-=1\n",
    "    print(n)"
   ]
  },
  {
   "cell_type": "code",
   "execution_count": 8,
   "id": "31605087",
   "metadata": {},
   "outputs": [
    {
     "name": "stdout",
     "output_type": "stream",
     "text": [
      "4\n",
      "3\n",
      "Loop ended.\n"
     ]
    }
   ],
   "source": [
    "# break statement\n",
    "\n",
    "n = 5\n",
    "while n > 0:\n",
    "    n-=1\n",
    "    if n == 2:\n",
    "        break\n",
    "    print(n)\n",
    "print('Loop ended.')"
   ]
  },
  {
   "cell_type": "code",
   "execution_count": 9,
   "id": "7b139758",
   "metadata": {},
   "outputs": [
    {
     "name": "stdout",
     "output_type": "stream",
     "text": [
      "4\n",
      "3\n",
      "2\n",
      "1\n",
      "0\n"
     ]
    }
   ],
   "source": [
    "# one line while loops\n",
    "n= 5\n",
    "while n>0: n-=1; print(n)"
   ]
  },
  {
   "cell_type": "code",
   "execution_count": 10,
   "id": "9a82427f",
   "metadata": {},
   "outputs": [
    {
     "name": "stdout",
     "output_type": "stream",
     "text": [
      "0\n",
      "1\n",
      "2\n",
      "3\n",
      "4\n"
     ]
    }
   ],
   "source": [
    "# range\n",
    "\n",
    "s = range(5)\n",
    "\n",
    "for n in s:\n",
    "    print(n)\n"
   ]
  },
  {
   "cell_type": "code",
   "execution_count": null,
   "id": "fbeaa1c2",
   "metadata": {},
   "outputs": [],
   "source": []
  }
 ],
 "metadata": {
  "kernelspec": {
   "display_name": "Python 3 (ipykernel)",
   "language": "python",
   "name": "python3"
  },
  "language_info": {
   "codemirror_mode": {
    "name": "ipython",
    "version": 3
   },
   "file_extension": ".py",
   "mimetype": "text/x-python",
   "name": "python",
   "nbconvert_exporter": "python",
   "pygments_lexer": "ipython3",
   "version": "3.9.7"
  }
 },
 "nbformat": 4,
 "nbformat_minor": 5
}
